{
 "cells": [
  {
   "cell_type": "code",
   "execution_count": 2,
   "metadata": {
    "tags": []
   },
   "outputs": [
    {
     "output_type": "stream",
     "name": "stdout",
     "text": "Current boss: K2\n 1-1:  61\n 2-1:  61\nTotal damage: 122/80\nNumber of rest team: 28\n\nCurrent boss: K3\n 3-1:  62\nTotal damage: 62/50\nNumber of rest team: 27\n\nCurrent boss: K4\n 4-1:  63\n 5-1:  63\n 6-1:  63\n 7-1:  63\n 8-1:  63\n 9-1:  63\n10-1:  63\n 1-2:  53\n 2-2:  53\n 3-2:  53\n 4-2:  53\n 5-2:  53\n 6-2:  53\n 7-2:  53\nTotal damage: 812/800\nNumber of rest team: 13\n\nCurrent boss: K5\n 8-2:  54\n 9-2:  54\n10-2:  54\n 1-3:  46\n 2-3:  44\n 3-3:  44\n 4-3:  44\n 5-3:  44\n 6-3:  44\n 7-3:  44\n 8-3:  44\nTotal damage: 516/500\nNumber of rest team: 2\n\nThe rest of damage, 88, is not enough to defeat the next boss.\nThe rest of teams are: 9-3 10-3\n"
    }
   ],
   "source": [
    "from arrange import *\n",
    "import numpy as np\n",
    "\n",
    "damages = [60,61,62,63,64,\n",
    "           50,51,52,53,54,\n",
    "           80,41,42,43,46,\n",
    "           60,61,62,63,64,\n",
    "           50,51,52,53,54,\n",
    "           40,41,42,43,44,\n",
    "           60,61,62,63,64,\n",
    "           50,51,52,53,54,\n",
    "           40,41,42,43,44,\n",
    "           60,61,62,63,64,\n",
    "           50,51,52,53,54,\n",
    "           40,41,42,43,44,\n",
    "           60,61,62,63,64,\n",
    "           50,51,52,53,54,\n",
    "           40,41,42,43,44,\n",
    "           60,61,62,63,64,\n",
    "           50,51,52,53,54,\n",
    "           40,41,42,43,44,\n",
    "           60,61,62,63,64,\n",
    "           50,51,52,53,54,\n",
    "           40,41,42,43,44,\n",
    "           60,61,62,63,64,\n",
    "           50,51,52,53,54,\n",
    "           40,41,42,43,44,\n",
    "           60,61,62,63,64,\n",
    "           50,56,52,53,54,\n",
    "           40,41,42,43,44,\n",
    "           60,61,62,63,64,\n",
    "           50,51,52,53,54,\n",
    "           40,41,42,43,44]   # 1-D list\n",
    "\n",
    "boss = {'K1':100, 'K2':100, 'K3':50, 'K4':800, 'K5':500} # Dict\n",
    "box =  get_box(10, damages)\n",
    "a = arrange(10, boss, box, 'K2', dam_current=80)"
   ]
  }
 ],
 "metadata": {
  "language_info": {
   "codemirror_mode": {
    "name": "ipython",
    "version": 3
   },
   "file_extension": ".py",
   "mimetype": "text/x-python",
   "name": "python",
   "nbconvert_exporter": "python",
   "pygments_lexer": "ipython3",
   "version": "3.7.4-final"
  },
  "orig_nbformat": 2,
  "kernelspec": {
   "name": "python37464bitbasecondaa9ba21e5d90341fc83d9d3f34577f80b",
   "display_name": "Python 3.7.4 64-bit ('base': conda)"
  }
 },
 "nbformat": 4,
 "nbformat_minor": 2
}